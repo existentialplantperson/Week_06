{
 "cells": [
  {
   "cell_type": "raw",
   "id": "745a355f",
   "metadata": {},
   "source": [
    "Angela Spencer, Week 6 In Class Assignment"
   ]
  },
  {
   "cell_type": "markdown",
   "id": "95af58a4",
   "metadata": {},
   "source": [
    "### 1. Import jeopardy.csv and create a dataframe from the data. Find out the following:"
   ]
  },
  {
   "cell_type": "code",
   "execution_count": 4,
   "id": "030d7756",
   "metadata": {},
   "outputs": [
    {
     "data": {
      "text/html": [
       "<div>\n",
       "<style scoped>\n",
       "    .dataframe tbody tr th:only-of-type {\n",
       "        vertical-align: middle;\n",
       "    }\n",
       "\n",
       "    .dataframe tbody tr th {\n",
       "        vertical-align: top;\n",
       "    }\n",
       "\n",
       "    .dataframe thead th {\n",
       "        text-align: right;\n",
       "    }\n",
       "</style>\n",
       "<table border=\"1\" class=\"dataframe\">\n",
       "  <thead>\n",
       "    <tr style=\"text-align: right;\">\n",
       "      <th></th>\n",
       "      <th>Show Number</th>\n",
       "      <th>Air Date</th>\n",
       "      <th>Round</th>\n",
       "      <th>Category</th>\n",
       "      <th>Value</th>\n",
       "      <th>Question</th>\n",
       "      <th>Answer</th>\n",
       "    </tr>\n",
       "  </thead>\n",
       "  <tbody>\n",
       "    <tr>\n",
       "      <th>0</th>\n",
       "      <td>4680</td>\n",
       "      <td>12/31/2004</td>\n",
       "      <td>Jeopardy!</td>\n",
       "      <td>HISTORY</td>\n",
       "      <td>$200</td>\n",
       "      <td>For the last 8 years of his life, Galileo was ...</td>\n",
       "      <td>Copernicus</td>\n",
       "    </tr>\n",
       "    <tr>\n",
       "      <th>1</th>\n",
       "      <td>4680</td>\n",
       "      <td>12/31/2004</td>\n",
       "      <td>Jeopardy!</td>\n",
       "      <td>ESPN's TOP 10 ALL-TIME ATHLETES</td>\n",
       "      <td>$200</td>\n",
       "      <td>No. 2: 1912 Olympian; football star at Carlisl...</td>\n",
       "      <td>Jim Thorpe</td>\n",
       "    </tr>\n",
       "    <tr>\n",
       "      <th>2</th>\n",
       "      <td>4680</td>\n",
       "      <td>12/31/2004</td>\n",
       "      <td>Jeopardy!</td>\n",
       "      <td>EVERYBODY TALKS ABOUT IT...</td>\n",
       "      <td>$200</td>\n",
       "      <td>The city of Yuma in this state has a record av...</td>\n",
       "      <td>Arizona</td>\n",
       "    </tr>\n",
       "    <tr>\n",
       "      <th>3</th>\n",
       "      <td>4680</td>\n",
       "      <td>12/31/2004</td>\n",
       "      <td>Jeopardy!</td>\n",
       "      <td>THE COMPANY LINE</td>\n",
       "      <td>$200</td>\n",
       "      <td>In 1963, live on \"The Art Linkletter Show\", th...</td>\n",
       "      <td>McDonald's</td>\n",
       "    </tr>\n",
       "    <tr>\n",
       "      <th>4</th>\n",
       "      <td>4680</td>\n",
       "      <td>12/31/2004</td>\n",
       "      <td>Jeopardy!</td>\n",
       "      <td>EPITAPHS &amp; TRIBUTES</td>\n",
       "      <td>$200</td>\n",
       "      <td>Signer of the Dec. of Indep., framer of the Co...</td>\n",
       "      <td>John Adams</td>\n",
       "    </tr>\n",
       "  </tbody>\n",
       "</table>\n",
       "</div>"
      ],
      "text/plain": [
       "   Show Number    Air Date      Round                         Category  Value  \\\n",
       "0         4680  12/31/2004  Jeopardy!                          HISTORY  $200    \n",
       "1         4680  12/31/2004  Jeopardy!  ESPN's TOP 10 ALL-TIME ATHLETES  $200    \n",
       "2         4680  12/31/2004  Jeopardy!      EVERYBODY TALKS ABOUT IT...  $200    \n",
       "3         4680  12/31/2004  Jeopardy!                 THE COMPANY LINE  $200    \n",
       "4         4680  12/31/2004  Jeopardy!              EPITAPHS & TRIBUTES  $200    \n",
       "\n",
       "                                            Question      Answer  \n",
       "0  For the last 8 years of his life, Galileo was ...  Copernicus  \n",
       "1  No. 2: 1912 Olympian; football star at Carlisl...  Jim Thorpe  \n",
       "2  The city of Yuma in this state has a record av...     Arizona  \n",
       "3  In 1963, live on \"The Art Linkletter Show\", th...  McDonald's  \n",
       "4  Signer of the Dec. of Indep., framer of the Co...  John Adams  "
      ]
     },
     "execution_count": 4,
     "metadata": {},
     "output_type": "execute_result"
    }
   ],
   "source": [
    "import pandas as pd\n",
    "jeopardy = pd.read_csv(\"JEOPARDY_CSV.csv\")\n",
    "jeopardy.head()"
   ]
  },
  {
   "cell_type": "markdown",
   "id": "6a8c53d8",
   "metadata": {},
   "source": [
    "#### a. How many rows are there in the dataframe? What does a row represent in this dataset? What is the “grain”?"
   ]
  },
  {
   "cell_type": "code",
   "execution_count": 5,
   "id": "823bf379",
   "metadata": {},
   "outputs": [
    {
     "data": {
      "text/plain": [
       "216930"
      ]
     },
     "execution_count": 5,
     "metadata": {},
     "output_type": "execute_result"
    }
   ],
   "source": [
    "len(jeopardy)"
   ]
  },
  {
   "cell_type": "markdown",
   "id": "ca15ce15",
   "metadata": {},
   "source": [
    "#### b. Clean the data. How do you need to “clean” it? What is “dirty” about this data?"
   ]
  },
  {
   "cell_type": "raw",
   "id": "ddc7a518",
   "metadata": {},
   "source": [
    "answer: removing spaces from column names, format dates into datetime to make the data easier to manipulate"
   ]
  },
  {
   "cell_type": "markdown",
   "id": "979accf6",
   "metadata": {},
   "source": [
    "#### c. How many unique shows were there each year?"
   ]
  },
  {
   "cell_type": "code",
   "execution_count": 6,
   "id": "38018400",
   "metadata": {},
   "outputs": [
    {
     "data": {
      "text/plain": [
       " Air Date\n",
       "1984     23\n",
       "1985     16\n",
       "1986     25\n",
       "1987     22\n",
       "1988     22\n",
       "1989     36\n",
       "1990     73\n",
       "1991     24\n",
       "1992     32\n",
       "1993     35\n",
       "1994     19\n",
       "1995     19\n",
       "1996     83\n",
       "1997    221\n",
       "1998    223\n",
       "1999    229\n",
       "2000    225\n",
       "2001    203\n",
       "2002    114\n",
       "2003    158\n",
       "2004    220\n",
       "2005    225\n",
       "2006    230\n",
       "2007    231\n",
       "2008    232\n",
       "2009    226\n",
       "2010    231\n",
       "2011    224\n",
       "2012     19\n",
       "Name: Show Number, dtype: int64"
      ]
     },
     "execution_count": 6,
     "metadata": {},
     "output_type": "execute_result"
    }
   ],
   "source": [
    "jeopardy_years = pd.DatetimeIndex(jeopardy[\" Air Date\"]).year\n",
    "shows_per_year = jeopardy.groupby(jeopardy_years)[\"Show Number\"].nunique()\n",
    "shows_per_year"
   ]
  },
  {
   "cell_type": "markdown",
   "id": "01df8e57",
   "metadata": {},
   "source": [
    "#### d. How many times was each category used?"
   ]
  },
  {
   "cell_type": "code",
   "execution_count": 7,
   "id": "2b05fa41",
   "metadata": {},
   "outputs": [
    {
     "data": {
      "text/plain": [
       " Category\n",
       "BEFORE & AFTER            547\n",
       "SCIENCE                   519\n",
       "LITERATURE                496\n",
       "AMERICAN HISTORY          418\n",
       "POTPOURRI                 401\n",
       "                         ... \n",
       "FOREIGN-BORN INVENTORS      1\n",
       "WORD HISTORIES              1\n",
       "FOREIGN WARS                1\n",
       "HISTORIC NAMESAKES          1\n",
       "U.S. GEOLOGY                1\n",
       "Name:  Category, Length: 27983, dtype: int64"
      ]
     },
     "execution_count": 7,
     "metadata": {},
     "output_type": "execute_result"
    }
   ],
   "source": [
    "category_grouped = jeopardy.groupby(\" Category\")\n",
    "category_unique = category_grouped[' Category'].count()\n",
    "category_unique_sorted = category_unique.sort_values(ascending=False)\n",
    "category_unique_sorted"
   ]
  },
  {
   "cell_type": "markdown",
   "id": "09426f67",
   "metadata": {},
   "source": [
    "#### e. Which month (over the years) has had the most shows?"
   ]
  },
  {
   "cell_type": "code",
   "execution_count": 8,
   "id": "9e298662",
   "metadata": {},
   "outputs": [
    {
     "data": {
      "text/plain": [
       " Air Date\n",
       "11    25672\n",
       "Name: Show Number, dtype: int64"
      ]
     },
     "execution_count": 8,
     "metadata": {},
     "output_type": "execute_result"
    }
   ],
   "source": [
    "jeopardy_months = pd.DatetimeIndex(jeopardy[\" Air Date\"]).month\n",
    "shows_per_month = jeopardy.groupby(jeopardy_months)[\"Show Number\"].count()\n",
    "shows_per_month_sorted = shows_per_month.sort_values(ascending=False)\n",
    "top_month = shows_per_month_sorted.head(1)\n",
    "top_month\n",
    "#November had the most shows per month"
   ]
  },
  {
   "cell_type": "markdown",
   "id": "d42528f2",
   "metadata": {},
   "source": [
    "#### f. Are there any answers that appeared multiple times? Find the questions for the top three most common answers."
   ]
  },
  {
   "cell_type": "code",
   "execution_count": 9,
   "id": "9d40d6f4",
   "metadata": {},
   "outputs": [
    {
     "data": {
      "text/plain": [
       " Answer\n",
       "China        216\n",
       "Australia    215\n",
       "Japan        196\n",
       "Name:  Answer, dtype: int64"
      ]
     },
     "execution_count": 9,
     "metadata": {},
     "output_type": "execute_result"
    }
   ],
   "source": [
    "answer_grouped = jeopardy.groupby(\" Answer\")\n",
    "answer_unique = answer_grouped[' Answer'].count()\n",
    "answer_unique_sorted = answer_unique.sort_values(ascending=False)\n",
    "top3_answers = answer_unique_sorted.head(3)\n",
    "top3_answers"
   ]
  },
  {
   "cell_type": "code",
   "execution_count": 10,
   "id": "5e7dd451",
   "metadata": {},
   "outputs": [
    {
     "data": {
      "text/html": [
       "<div>\n",
       "<style scoped>\n",
       "    .dataframe tbody tr th:only-of-type {\n",
       "        vertical-align: middle;\n",
       "    }\n",
       "\n",
       "    .dataframe tbody tr th {\n",
       "        vertical-align: top;\n",
       "    }\n",
       "\n",
       "    .dataframe thead th {\n",
       "        text-align: right;\n",
       "    }\n",
       "</style>\n",
       "<table border=\"1\" class=\"dataframe\">\n",
       "  <thead>\n",
       "    <tr style=\"text-align: right;\">\n",
       "      <th></th>\n",
       "      <th>Show Number</th>\n",
       "      <th>Air Date</th>\n",
       "      <th>Round</th>\n",
       "      <th>Category</th>\n",
       "      <th>Value</th>\n",
       "      <th>Question</th>\n",
       "    </tr>\n",
       "    <tr>\n",
       "      <th>Answer</th>\n",
       "      <th></th>\n",
       "      <th></th>\n",
       "      <th></th>\n",
       "      <th></th>\n",
       "      <th></th>\n",
       "      <th></th>\n",
       "    </tr>\n",
       "  </thead>\n",
       "  <tbody>\n",
       "    <tr>\n",
       "      <th>China</th>\n",
       "      <td>4107</td>\n",
       "      <td>6/11/2002</td>\n",
       "      <td>Jeopardy!</td>\n",
       "      <td>REMEMBER THE TIME</td>\n",
       "      <td>$200</td>\n",
       "      <td>In 1958 this country launched its second 5-yea...</td>\n",
       "    </tr>\n",
       "    <tr>\n",
       "      <th>China</th>\n",
       "      <td>5392</td>\n",
       "      <td>2/5/2008</td>\n",
       "      <td>Jeopardy!</td>\n",
       "      <td>WHAT A WEEK</td>\n",
       "      <td>$800</td>\n",
       "      <td>In 1999 this country began 3 \"golden weeks\" of...</td>\n",
       "    </tr>\n",
       "    <tr>\n",
       "      <th>China</th>\n",
       "      <td>4487</td>\n",
       "      <td>2/24/2004</td>\n",
       "      <td>Jeopardy!</td>\n",
       "      <td>FOOD CHAIN</td>\n",
       "      <td>$400</td>\n",
       "      <td>P.F. Chang's is an upscale bistro specializing...</td>\n",
       "    </tr>\n",
       "    <tr>\n",
       "      <th>China</th>\n",
       "      <td>4751</td>\n",
       "      <td>4/11/2005</td>\n",
       "      <td>Jeopardy!</td>\n",
       "      <td>GOVERNMENT</td>\n",
       "      <td>$600</td>\n",
       "      <td>This country's National People's Congress has ...</td>\n",
       "    </tr>\n",
       "    <tr>\n",
       "      <th>China</th>\n",
       "      <td>5935</td>\n",
       "      <td>6/4/2010</td>\n",
       "      <td>Jeopardy!</td>\n",
       "      <td>IT BORDERS INDIA</td>\n",
       "      <td>$200</td>\n",
       "      <td>Of the 6 nations India borders, this one is th...</td>\n",
       "    </tr>\n",
       "    <tr>\n",
       "      <th>...</th>\n",
       "      <td>...</td>\n",
       "      <td>...</td>\n",
       "      <td>...</td>\n",
       "      <td>...</td>\n",
       "      <td>...</td>\n",
       "      <td>...</td>\n",
       "    </tr>\n",
       "    <tr>\n",
       "      <th>Japan</th>\n",
       "      <td>3888</td>\n",
       "      <td>6/27/2001</td>\n",
       "      <td>Double Jeopardy!</td>\n",
       "      <td>RUSSIAN HISTORY</td>\n",
       "      <td>$1,000</td>\n",
       "      <td>On Feb. 8, 1904 this country attacked Port Art...</td>\n",
       "    </tr>\n",
       "    <tr>\n",
       "      <th>Japan</th>\n",
       "      <td>5619</td>\n",
       "      <td>1/29/2009</td>\n",
       "      <td>Double Jeopardy!</td>\n",
       "      <td>RAISE THE FLAG</td>\n",
       "      <td>$1,200</td>\n",
       "      <td>This nation's maritime self-defense force, suc...</td>\n",
       "    </tr>\n",
       "    <tr>\n",
       "      <th>Japan</th>\n",
       "      <td>4216</td>\n",
       "      <td>12/23/2002</td>\n",
       "      <td>Jeopardy!</td>\n",
       "      <td>U.S. HISTORY</td>\n",
       "      <td>$1,000</td>\n",
       "      <td>On July 8, 1853 Matthew Perry presented a lett...</td>\n",
       "    </tr>\n",
       "    <tr>\n",
       "      <th>Japan</th>\n",
       "      <td>3589</td>\n",
       "      <td>3/23/2000</td>\n",
       "      <td>Jeopardy!</td>\n",
       "      <td>BEER COUNTRY OF ORIGIN</td>\n",
       "      <td>$400</td>\n",
       "      <td>Kirin</td>\n",
       "    </tr>\n",
       "    <tr>\n",
       "      <th>Japan</th>\n",
       "      <td>3940</td>\n",
       "      <td>10/19/2001</td>\n",
       "      <td>Double Jeopardy!</td>\n",
       "      <td>I'M IN CHARGE!</td>\n",
       "      <td>$200</td>\n",
       "      <td>In Asia: Prime Minister Junichiro Koizumi</td>\n",
       "    </tr>\n",
       "  </tbody>\n",
       "</table>\n",
       "<p>627 rows × 6 columns</p>\n",
       "</div>"
      ],
      "text/plain": [
       "         Show Number    Air Date             Round                Category  \\\n",
       " Answer                                                                      \n",
       "China           4107   6/11/2002         Jeopardy!       REMEMBER THE TIME   \n",
       "China           5392    2/5/2008         Jeopardy!             WHAT A WEEK   \n",
       "China           4487   2/24/2004         Jeopardy!              FOOD CHAIN   \n",
       "China           4751   4/11/2005         Jeopardy!              GOVERNMENT   \n",
       "China           5935    6/4/2010         Jeopardy!        IT BORDERS INDIA   \n",
       "...              ...         ...               ...                     ...   \n",
       "Japan           3888   6/27/2001  Double Jeopardy!         RUSSIAN HISTORY   \n",
       "Japan           5619   1/29/2009  Double Jeopardy!          RAISE THE FLAG   \n",
       "Japan           4216  12/23/2002         Jeopardy!            U.S. HISTORY   \n",
       "Japan           3589   3/23/2000         Jeopardy!  BEER COUNTRY OF ORIGIN   \n",
       "Japan           3940  10/19/2001  Double Jeopardy!          I'M IN CHARGE!   \n",
       "\n",
       "           Value                                           Question  \n",
       " Answer                                                              \n",
       "China      $200   In 1958 this country launched its second 5-yea...  \n",
       "China      $800   In 1999 this country began 3 \"golden weeks\" of...  \n",
       "China      $400   P.F. Chang's is an upscale bistro specializing...  \n",
       "China      $600   This country's National People's Congress has ...  \n",
       "China      $200   Of the 6 nations India borders, this one is th...  \n",
       "...          ...                                                ...  \n",
       "Japan    $1,000   On Feb. 8, 1904 this country attacked Port Art...  \n",
       "Japan    $1,200   This nation's maritime self-defense force, suc...  \n",
       "Japan    $1,000   On July 8, 1853 Matthew Perry presented a lett...  \n",
       "Japan      $400                                               Kirin  \n",
       "Japan      $200           In Asia: Prime Minister Junichiro Koizumi  \n",
       "\n",
       "[627 rows x 6 columns]"
      ]
     },
     "execution_count": 10,
     "metadata": {},
     "output_type": "execute_result"
    }
   ],
   "source": [
    "answer_index = jeopardy.set_index(' Answer')\n",
    "answer_index.loc[[\"China\", \"Australia\", \"Japan\"]]"
   ]
  },
  {
   "cell_type": "markdown",
   "id": "dbe79e96",
   "metadata": {},
   "source": [
    "#### 2. Create a visualization that shows the top 5 categories (those referenced the most often). Be sure to label appropriately."
   ]
  },
  {
   "cell_type": "code",
   "execution_count": 11,
   "id": "3714fe39",
   "metadata": {},
   "outputs": [
    {
     "data": {
      "text/plain": [
       " Category\n",
       "BEFORE & AFTER      547\n",
       "SCIENCE             519\n",
       "LITERATURE          496\n",
       "AMERICAN HISTORY    418\n",
       "POTPOURRI           401\n",
       "Name:  Category, dtype: int64"
      ]
     },
     "execution_count": 11,
     "metadata": {},
     "output_type": "execute_result"
    }
   ],
   "source": [
    "top5_categories = category_unique_sorted.head(5)\n",
    "top5_categories"
   ]
  },
  {
   "cell_type": "code",
   "execution_count": 20,
   "id": "8bd61115",
   "metadata": {},
   "outputs": [
    {
     "data": {
      "image/png": "[encoded data removed]",
      "text/plain": [
       "<Figure size 432x288 with 1 Axes>"
      ]
     },
     "metadata": {
      "needs_background": "light"
     },
     "output_type": "display_data"
    }
   ],
   "source": [
    "import matplotlib.pyplot as plt\n",
    "import seaborn as sns\n",
    "\n",
    "top5_categories.plot.bar(rot=45, xlabel=\"Top 5 Categories\", ylabel=\"Times Used\", \n",
    "                     title=\"Top 5 Jeopardy Categories 1984-2012\")\n",
    "plt.show()"
   ]
  }
 ],
 "metadata": {
  "kernelspec": {
   "display_name": "Python 3 (ipykernel)",
   "language": "python",
   "name": "python3"
  },
  "language_info": {
   "codemirror_mode": {
    "name": "ipython",
    "version": 3
   },
   "file_extension": ".py",
   "mimetype": "text/x-python",
   "name": "python",
   "nbconvert_exporter": "python",
   "pygments_lexer": "ipython3",
   "version": "3.9.7"
  }
 },
 "nbformat": 4,
 "nbformat_minor": 5
}
